{
  "cells": [
    {
      "cell_type": "markdown",
      "id": "d3bfc191-8885-42ee-b0a0-bbab867c6f9f",
      "metadata": {
        "tags": [],
        "id": "d3bfc191-8885-42ee-b0a0-bbab867c6f9f"
      },
      "source": [
        "# Lab | Flow Control"
      ]
    },
    {
      "cell_type": "markdown",
      "id": "3851fcd1-cf98-4653-9c89-e003b7ec9400",
      "metadata": {
        "id": "3851fcd1-cf98-4653-9c89-e003b7ec9400"
      },
      "source": [
        "## Exercise: Managing Customer Orders Optimized\n",
        "\n",
        "In the last lab, you were starting an online store that sells various products. To ensure smooth operations, you developed a program that manages customer orders and inventory.\n",
        "\n",
        "You did so without using flow control. Let's go a step further and improve this code.\n",
        "\n",
        "Follow the steps below to complete the exercise:\n",
        "\n",
        "1. Look at your code from the lab data structures, and improve repeated code with loops.\n",
        "\n",
        "2. Instead of asking the user to input the name of three products that a customer wants to order, do the following:\n",
        "    \n",
        "    a. Prompt the user to enter the name of a product that a customer wants to order.\n",
        "    \n",
        "    b. Add the product name to the \"customer_orders\" set.\n",
        "    \n",
        "    c. Ask the user if they want to add another product (yes/no).\n",
        "    \n",
        "    d. Continue the loop until the user does not want to add another product.\n",
        "\n",
        "3. Instead of updating the inventory by subtracting 1 from the quantity of each product, only do it for  the products that were ordered (those in \"customer_orders\")."
      ]
    },
    {
      "cell_type": "code",
      "source": [],
      "metadata": {
        "id": "ToyEwP4fkJBQ"
      },
      "id": "ToyEwP4fkJBQ",
      "execution_count": null,
      "outputs": []
    },
    {
      "cell_type": "code",
      "source": [
        "my_products = [\"tshirt\", \"mug\", \"hat\", \"book\", \"keychain\"]\n",
        "\n",
        "inventory = {}\n",
        "\n",
        "for product in my_products:\n",
        "        quantity = int(input(f\"Enter the quantity of {product}: \"))\n",
        "        inventory[product] = quantity\n",
        "\n",
        "customer_orders = set()\n",
        "\n",
        "for product in my_products:\n",
        "  new_items = input(f\"Make your order:\")\n",
        "  customer_orders.add(new_items)\n",
        "  print(\"Cart updated.\")\n",
        "\n",
        "  another = input(\"Would you like to add another item?(yes/no):\")\n",
        "\n",
        "  if another == \"no\":\n",
        "      print(\"Your order has been created:\")\n",
        "      print(customer_orders)\n",
        "      break\n",
        "else:\n",
        "    print(\"continue shopping\")\n",
        "\n",
        "for new_items in customer_orders:\n",
        "  my_products.append(new_items)\n",
        "  my_products\n",
        "\n",
        "total= len(customer_orders)\n",
        "\n",
        "percentage= (total / len(my_products)) * 100\n",
        "\n",
        "order_status = (total, percentage)\n",
        "\n",
        "print(\"Order Statistics:\")\n",
        "print(f\"Total Products Ordered: {order_status[0]}\")\n",
        "print(f\"Percentage of Products Ordered: {order_status[1]:.2f}%\")\n",
        "\n",
        "for product in customer_orders:\n",
        "    if product in inventory:\n",
        "        inventory[product] -= 1\n",
        "    else:\n",
        "        print(f\"Warning: {product} is not in the inventory.\")\n",
        "    break\n",
        "\n",
        "print(\"Updated Inventory:\")\n",
        "for my_products, quantity in inventory.items():\n",
        "    print(f\"{my_products}: {quantity}\")\n",
        "\n"
      ],
      "metadata": {
        "id": "ymh5wDC_K3lU",
        "outputId": "55072e9b-cae2-4d3c-d6c6-3ebab0ecf90d",
        "colab": {
          "base_uri": "https://localhost:8080/"
        }
      },
      "execution_count": 91,
      "outputs": [
        {
          "output_type": "stream",
          "name": "stdout",
          "text": [
            "Enter the quantity of tshirt: 2\n",
            "Enter the quantity of mug: 2\n",
            "Enter the quantity of hat: 2\n",
            "Enter the quantity of book: 2\n",
            "Enter the quantity of keychain: 2\n",
            "Make your order:book\n",
            "Cart updated.\n",
            "Would you like to add another item?(yes/no):yes\n",
            "Make your order:bell\n",
            "Cart updated.\n",
            "Would you like to add another item?(yes/no):no\n",
            "Your order has been created:\n",
            "{'bell', 'book'}\n",
            "Order Statistics:\n",
            "Total Products Ordered: 2\n",
            "Percentage of Products Ordered: 28.57%\n",
            "Warning: bell is not in the inventory.\n",
            "Updated Inventory:\n",
            "tshirt: 2\n",
            "mug: 2\n",
            "hat: 2\n",
            "book: 2\n",
            "keychain: 2\n"
          ]
        }
      ],
      "id": "ymh5wDC_K3lU"
    }
  ],
  "metadata": {
    "kernelspec": {
      "display_name": "Python 3 (ipykernel)",
      "language": "python",
      "name": "python3"
    },
    "language_info": {
      "codemirror_mode": {
        "name": "ipython",
        "version": 3
      },
      "file_extension": ".py",
      "mimetype": "text/x-python",
      "name": "python",
      "nbconvert_exporter": "python",
      "pygments_lexer": "ipython3",
      "version": "3.9.13"
    },
    "colab": {
      "provenance": []
    }
  },
  "nbformat": 4,
  "nbformat_minor": 5
}